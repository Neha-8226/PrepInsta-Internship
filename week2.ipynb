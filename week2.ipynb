{
 "cells": [
  {
   "cell_type": "code",
   "execution_count": 4,
   "metadata": {},
   "outputs": [
    {
     "name": "stdout",
     "output_type": "stream",
     "text": [
      "[0, 1, 2, 3, 4, 5, 6]\n",
      "['G', 'G', 'G', '-', 'B', 'B', 'B']\n"
     ]
    }
   ],
   "source": [
    "# initialize the display\n",
    "\n",
    "list = [0, 1, 2, 3, 4, 5, 6]\n",
    "positions = ['G', 'G', 'G', '-', 'B', 'B', 'B']\n",
    "print(list)\n",
    "print(positions)\n",
    "\n",
    "\n"
   ]
  },
  {
   "cell_type": "code",
   "execution_count": 2,
   "metadata": {},
   "outputs": [
    {
     "name": "stdout",
     "output_type": "stream",
     "text": [
      "### Always  enter the values less than 7 ###\n"
     ]
    }
   ],
   "source": [
    "# set the number of inputs\n",
    "\n",
    "print(\"### Always  enter the values less than 7 ###\")"
   ]
  },
  {
   "cell_type": "code",
   "execution_count": 3,
   "metadata": {},
   "outputs": [],
   "source": [
    "# Accept the position from the user\n",
    "\n",
    "pos = input(\"Press q to quit else \\n Enter position of piece:  \")"
   ]
  },
  {
   "cell_type": "code",
   "execution_count": 22,
   "metadata": {},
   "outputs": [
    {
     "data": {
      "text/plain": [
       "str"
      ]
     },
     "execution_count": 22,
     "metadata": {},
     "output_type": "execute_result"
    }
   ],
   "source": [
    "type(pos)"
   ]
  },
  {
   "cell_type": "code",
   "execution_count": null,
   "metadata": {},
   "outputs": [],
   "source": [
    "# You lose\n",
    "\n",
    "if pos == 'q':\n",
    "    print(\"You Lose!\")"
   ]
  },
  {
   "cell_type": "code",
   "execution_count": 4,
   "metadata": {},
   "outputs": [
    {
     "name": "stdout",
     "output_type": "stream",
     "text": [
      "You Lose\n"
     ]
    }
   ],
   "source": [
    "# Give input\n",
    "\n",
    "if pos == 'q':\n",
    "    print(\"You Lose\")\n",
    "else:\n",
    "    pos = int(pos)    \n",
    "    "
   ]
  },
  {
   "cell_type": "code",
   "execution_count": 5,
   "metadata": {},
   "outputs": [
    {
     "name": "stdout",
     "output_type": "stream",
     "text": [
      "Invalid move\n"
     ]
    }
   ],
   "source": [
    "# Check validity of selected position\n",
    "\n",
    "if pos not in range(7):\n",
    "    print(\"Invalid move\")\n",
    "    "
   ]
  },
  {
   "cell_type": "code",
   "execution_count": 18,
   "metadata": {},
   "outputs": [],
   "source": [
    "# Define the empty leaf\n",
    "pos2 = 0 #assuming the position of the empty leaf\n",
    "\n",
    "if pos == pos2:\n",
    "    print(\"Invalid move\")"
   ]
  },
  {
   "cell_type": "code",
   "execution_count": 21,
   "metadata": {},
   "outputs": [
    {
     "data": {
      "text/plain": [
       "str"
      ]
     },
     "execution_count": 21,
     "metadata": {},
     "output_type": "execute_result"
    }
   ],
   "source": [
    "type(pos2)"
   ]
  },
  {
   "cell_type": "code",
   "execution_count": 8,
   "metadata": {},
   "outputs": [],
   "source": [
    "# G frog is selected\n",
    "\n",
    "current_pos = 0\n",
    "\n",
    "if pos == 'G':\n",
    "    if pos + 1 <= 6 and current_pos + 1 == '-':\n",
    "        pos2 = pos + 1\n",
    "        print(\"Valid move\")\n",
    "    elif pos + 2 <= 6 and current_pos + 2 =='-' and pos + 1 == 'B':\n",
    "        pos2 = pos + 2\n",
    "        print(\"Valid move\")\n",
    "    else:\n",
    "        print(\"Invalid move\")        "
   ]
  },
  {
   "cell_type": "code",
   "execution_count": 9,
   "metadata": {},
   "outputs": [],
   "source": [
    "# B is selected\n",
    "\n",
    "if pos == 'B':\n",
    "    if pos - 1 >= 0 and current_pos - 1 == '-':\n",
    "        pos2 = pos - 1\n",
    "        print(\"Valid move\")\n",
    "    elif pos - 2 >= 0 and current_pos - 2 == '-' and pos - 1 == 'G':\n",
    "        pos2 = pos -2\n",
    "        print(\"Valid move\")\n",
    "    else:\n",
    "        print(\"Invaid move\")        "
   ]
  },
  {
   "cell_type": "code",
   "execution_count": 11,
   "metadata": {},
   "outputs": [
    {
     "name": "stdout",
     "output_type": "stream",
     "text": [
      "[0, 1, 3, 2, 4, 5, 6]\n"
     ]
    }
   ],
   "source": [
    "#Swapping the elements\n",
    " \n",
    "list = [0, 1, 2, 3, 4, 5, 6]\n",
    "pos = 3\n",
    "pos2 = 2\n",
    "list[pos], list[pos2] = list[pos2], list[pos]\n",
    "\n",
    "print(list)"
   ]
  },
  {
   "cell_type": "code",
   "execution_count": 7,
   "metadata": {},
   "outputs": [
    {
     "name": "stdout",
     "output_type": "stream",
     "text": [
      "[2, 1, 0, 3, 4, 5, 6]\n",
      "['G', 'G', 'G', '-', 'B', 'B', 'B']\n"
     ]
    }
   ],
   "source": [
    "print(list)\n",
    "print(positions)"
   ]
  },
  {
   "cell_type": "code",
   "execution_count": 12,
   "metadata": {},
   "outputs": [
    {
     "name": "stdout",
     "output_type": "stream",
     "text": [
      "['G', 'G', '-', 'G', 'B', 'B', 'B']\n"
     ]
    }
   ],
   "source": [
    "positions = ['G', 'G', 'G', '-', 'B', 'B', 'B']\n",
    "pos = 3\n",
    "pos2 = 2\n",
    "positions[pos], positions[pos2] = positions[pos2], positions[pos]\n",
    "\n",
    "print(positions)"
   ]
  },
  {
   "cell_type": "code",
   "execution_count": 13,
   "metadata": {},
   "outputs": [
    {
     "name": "stdout",
     "output_type": "stream",
     "text": [
      "[0, 1, 3, 2, 4, 5, 6]\n",
      "['G', 'G', '-', 'G', 'B', 'B', 'B']\n"
     ]
    }
   ],
   "source": [
    "print(list)\n",
    "print(positions)"
   ]
  },
  {
   "cell_type": "code",
   "execution_count": 14,
   "metadata": {},
   "outputs": [
    {
     "name": "stdout",
     "output_type": "stream",
     "text": [
      "You Lose\n"
     ]
    }
   ],
   "source": [
    "# Winning condition\n",
    "\n",
    "list = [0, 1, 2, 3, 4, 5, 6]\n",
    "if list[0] == 'G' and list[1] == 'G' and list[2] == 'G':\n",
    "    print(\"You Win\")\n",
    "else:\n",
    "    print(\"You Lose\")    "
   ]
  },
  {
   "cell_type": "code",
   "execution_count": 16,
   "metadata": {},
   "outputs": [
    {
     "name": "stdout",
     "output_type": "stream",
     "text": [
      "Invalid move\n",
      "Invalid move\n",
      "Invalid move\n"
     ]
    }
   ],
   "source": [
    "# Game Loop\n",
    "\n",
    "# Define the game board\n",
    "board = [0, 1, 2, 3, 4, 5, 6]\n",
    "\n",
    "# Define the winning condition\n",
    "winning_condition = ['G', 'G', 'G']\n",
    "\n",
    "# Start the game loop\n",
    "while True:\n",
    "    move = input(\"Enter your move (1-6): \")       # Get the player's move\n",
    "    if move not in board:\n",
    "        print(\"Invalid move\")                      # Check if move is valid\n",
    "        continue\n",
    "    \n",
    "    board[move - 1] = 'G'                          # Make the move\n",
    "    print(\"board\")                                 # Display the game board\n",
    "    \n",
    "    if board == winning_condition:                  #Check if the player has won\n",
    "        print(\"You win!\")\n",
    "        break\n",
    "    \n",
    "    if move == 'q':                                # Check if the player wants to quit\n",
    "        print(\"You quit!\")\n",
    "        break"
   ]
  }
 ],
 "metadata": {
  "kernelspec": {
   "display_name": "Python 3",
   "language": "python",
   "name": "python3"
  },
  "language_info": {
   "codemirror_mode": {
    "name": "ipython",
    "version": 3
   },
   "file_extension": ".py",
   "mimetype": "text/x-python",
   "name": "python",
   "nbconvert_exporter": "python",
   "pygments_lexer": "ipython3",
   "version": "3.11.4"
  }
 },
 "nbformat": 4,
 "nbformat_minor": 2
}
