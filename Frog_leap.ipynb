{
  "nbformat": 4,
  "nbformat_minor": 0,
  "metadata": {
    "colab": {
      "provenance": []
    },
    "kernelspec": {
      "name": "python3",
      "display_name": "Python 3"
    },
    "language_info": {
      "name": "python"
    }
  },
  "cells": [
    {
      "cell_type": "markdown",
      "source": [
        "**Step 1**"
      ],
      "metadata": {
        "id": "3j1TZKcIBvnM"
      }
    },
    {
      "cell_type": "markdown",
      "source": [
        "First create a list positions which contains the characters 'G','B' and '-' in the same sequence as given in the initial display state."
      ],
      "metadata": {
        "id": "2jhPt1e-Buh9"
      }
    },
    {
      "cell_type": "code",
      "source": [
        "positions = ['G','G','G','-','B','B','B']\n",
        "positions"
      ],
      "metadata": {
        "colab": {
          "base_uri": "https://localhost:8080/"
        },
        "id": "xj5zpU_qBv9V",
        "outputId": "c0a3d740-4a4c-4cd7-c108-5217c96e092c"
      },
      "execution_count": 1,
      "outputs": [
        {
          "output_type": "execute_result",
          "data": {
            "text/plain": [
              "['G', 'G', 'G', '-', 'B', 'B', 'B']"
            ]
          },
          "metadata": {},
          "execution_count": 1
        }
      ]
    },
    {
      "cell_type": "markdown",
      "source": [
        "Now print this string [ 0 , 1 , 2 , 3 , 4 , 5 , 6 ] and after that print the list positions\n",
        "\n"
      ],
      "metadata": {
        "id": "a7wM2MJWCG70"
      }
    },
    {
      "cell_type": "code",
      "source": [
        "print(\"  0    1    2    3    4    5    6     \")\n",
        "\n",
        "positions"
      ],
      "metadata": {
        "colab": {
          "base_uri": "https://localhost:8080/"
        },
        "id": "q-RY4QxXCGIN",
        "outputId": "012734bd-57fd-4588-a412-43217cb04ddb"
      },
      "execution_count": 2,
      "outputs": [
        {
          "output_type": "stream",
          "name": "stdout",
          "text": [
            "  0    1    2    3    4    5    6     \n"
          ]
        },
        {
          "output_type": "execute_result",
          "data": {
            "text/plain": [
              "['G', 'G', 'G', '-', 'B', 'B', 'B']"
            ]
          },
          "metadata": {},
          "execution_count": 2
        }
      ]
    },
    {
      "cell_type": "markdown",
      "source": [
        "Take position input from user and write a message as `\"Press q to quit else \\nEnter position of piece:\"`."
      ],
      "metadata": {
        "id": "gtlXgjXgCOpT"
      }
    },
    {
      "cell_type": "code",
      "source": [
        "pos = input(\"Press q to quit else \\nEnter position of piece:\")"
      ],
      "metadata": {
        "colab": {
          "base_uri": "https://localhost:8080/"
        },
        "id": "USaR-R3jCVWe",
        "outputId": "929728bb-f08f-4038-9684-01d1b6e6e3da"
      },
      "execution_count": 15,
      "outputs": [
        {
          "name": "stdout",
          "output_type": "stream",
          "text": [
            "Press q to quit else \n",
            "Enter position of piece:2\n"
          ]
        }
      ]
    },
    {
      "cell_type": "markdown",
      "source": [
        "Now the taken input is in string format. So first check if the input is 'q' character. If input is 'q' then the person is quiting the game so print 'You Lose'."
      ],
      "metadata": {
        "id": "D6HtRXxECZ8_"
      }
    },
    {
      "cell_type": "code",
      "source": [
        "if pos == 'q':\n",
        "  print(\"You Lose\")"
      ],
      "metadata": {
        "id": "890kZxywCez2"
      },
      "execution_count": 16,
      "outputs": []
    },
    {
      "cell_type": "markdown",
      "source": [
        "Next if input character is not 'q' then it has to be some integer. so convert input to integer format."
      ],
      "metadata": {
        "id": "AdU0XKWwCqKp"
      }
    },
    {
      "cell_type": "code",
      "source": [
        "if pos != 'q':\n",
        "  pos = int(pos)"
      ],
      "metadata": {
        "id": "M-ZBLOMNCpuf"
      },
      "execution_count": 17,
      "outputs": []
    },
    {
      "cell_type": "markdown",
      "source": [
        "Step 2"
      ],
      "metadata": {
        "id": "Lv3KKUafCx0Z"
      }
    },
    {
      "cell_type": "markdown",
      "source": [
        "Now we have to check validity of the selected positions or move.\n",
        "If the entered number isn't between 0 and 6, then print 'Invalid move'."
      ],
      "metadata": {
        "id": "wiZF8aadC2oZ"
      }
    },
    {
      "cell_type": "code",
      "source": [
        "if pos < 0 or pos > 6:\n",
        "  print(\"Invalid Move\")"
      ],
      "metadata": {
        "id": "I8rlR_m5CxaP"
      },
      "execution_count": 18,
      "outputs": []
    },
    {
      "cell_type": "markdown",
      "source": [
        "A frog should be present on the selected position to make a move. If leaf is selected then it doesn't make sense. Therefore, if entered postition is same as the postition of empty leaf then the move is invalid and print Invalid Move"
      ],
      "metadata": {
        "id": "4sJSTyDMC-JH"
      }
    },
    {
      "cell_type": "code",
      "source": [
        "if positions[pos] == '-':\n",
        "  print(\"Invalid Move\")"
      ],
      "metadata": {
        "id": "FbWm_FEUDHz6"
      },
      "execution_count": 19,
      "outputs": []
    },
    {
      "cell_type": "markdown",
      "source": [
        "Initialize a variable named pos2 at value 0, to store the index of empty leaf, so that we can use it later."
      ],
      "metadata": {
        "id": "VcudWX4fDMM0"
      }
    },
    {
      "cell_type": "code",
      "source": [
        "pos2 = 0"
      ],
      "metadata": {
        "id": "CgeV6-rkDLsn"
      },
      "execution_count": 20,
      "outputs": []
    },
    {
      "cell_type": "markdown",
      "source": [
        "```   \n",
        "    Check if the selected frog is 'G':\n",
        "  \n",
        "        (Inside if when it's 'G'. As 'G' is selected frog can move to right only.)\n",
        "        \n",
        "        ❗condition 1\n",
        "\n",
        "        If **selected_position + 1** is less than or equal to 6 and **curent_position + 1** contains '-'\n",
        "        then it's a valid move and store that postion in `pos2`.\n",
        "        \n",
        "        ❗condition2\n",
        "\n",
        "        Else if **selected_position + 2** is less than or equal to 6 and if **current_position + 2**\n",
        "        contains '-' and if **selected_position + 1** contains 'B' then it's a valid move  and store that postion in `pos2`.\n",
        "        \n",
        "        ❗condition3:\n",
        "\n",
        "        Else remainig all are invalid, so print `Invalid Move`\n",
        "      \n",
        "```"
      ],
      "metadata": {
        "id": "V9UFD623R3Oa"
      }
    },
    {
      "cell_type": "code",
      "source": [
        "if positions[pos] == 'G':\n",
        "  if pos +1 <= 6 and positions[pos +1] =='-':\n",
        "    pos2 = pos +1\n",
        "  elif pos +2 <= 6 and positions[pos +2]  == '-' and pos +1 == 'B':\n",
        "    pos2 = pos +2\n",
        "  else:\n",
        "    print(\"Invalid Move\")\n"
      ],
      "metadata": {
        "id": "tuTcg3ncDrFk"
      },
      "execution_count": 21,
      "outputs": []
    },
    {
      "cell_type": "markdown",
      "source": [
        "```\n",
        "    Check if the selected frog is 'B':\n",
        "    \n",
        "        (Inside if when it's 'B'. As 'B' is selected frog can move to left only.)\n",
        "        \n",
        "        ❗condition1:\n",
        "\n",
        "        If **selected_position - 1** is more than or equal to 0 and **curent_position - 1** contains '-' then\n",
        "        it's a valid move and and store that postion in `pos2`.\n",
        "        \n",
        "        ❗condition2:\n",
        "\n",
        "        Else if **selected_position - 2** is more than or equal to 0 and if **current_position - 2** contains '-'\n",
        "        and if **selected_position - 1** contains 'G' then it's a valid move and and store that postion in `pos2`.\n",
        "\n",
        "        ❗condition3:\n",
        "        \n",
        "        Else remainig all are invalid,, so print `Invalid Move`.\n",
        "        \n",
        "```"
      ],
      "metadata": {
        "id": "DyQX5nUsTZPF"
      }
    },
    {
      "cell_type": "code",
      "source": [
        "if positions[pos] == 'B':\n",
        "  if pos -1 >= 0 and positions[pos - 1] =='-':\n",
        "    pos2 = pos -1\n",
        "  elif pos -2 >= 0 and positions[pos -2]  == '-' and pos -1 == 'G':\n",
        "    pos2 = pos -2\n",
        "  else:\n",
        "    print(\"Invalid Move\")"
      ],
      "metadata": {
        "id": "zqLmylZODzX0"
      },
      "execution_count": 22,
      "outputs": []
    },
    {
      "cell_type": "markdown",
      "source": [
        "Swap the element at selected positions and calculated position2 in the list.\n",
        "So basically we are moving the frog to next valid position by swapping elelments of array."
      ],
      "metadata": {
        "id": "oQz3TRwkD6PF"
      }
    },
    {
      "cell_type": "code",
      "source": [
        "temp = positions[pos]\n",
        "positions[pos] = positions[pos2]\n",
        "positions[pos2] = temp"
      ],
      "metadata": {
        "id": "pjwsG23fD3bS"
      },
      "execution_count": 23,
      "outputs": []
    },
    {
      "cell_type": "markdown",
      "source": [
        "Now print the display of the game again to see the change.\n",
        "If we enter position 2 then the output will look like this:-"
      ],
      "metadata": {
        "id": "rsoRmVoEEBr8"
      }
    },
    {
      "cell_type": "code",
      "source": [
        "[ 0 ,  1 ,  2 ,  3 ,  4 ,  5 ,  6 ]\n",
        "['G', 'G', '-', 'G', 'B', 'B', 'B']"
      ],
      "metadata": {
        "colab": {
          "base_uri": "https://localhost:8080/"
        },
        "id": "LU9bQ-tVD9ms",
        "outputId": "54095287-6519-43ee-b76f-200d3c9e237f"
      },
      "execution_count": 24,
      "outputs": [
        {
          "output_type": "execute_result",
          "data": {
            "text/plain": [
              "['G', 'G', '-', 'G', 'B', 'B', 'B']"
            ]
          },
          "metadata": {},
          "execution_count": 24
        }
      ]
    },
    {
      "cell_type": "code",
      "source": [
        "positions"
      ],
      "metadata": {
        "colab": {
          "base_uri": "https://localhost:8080/"
        },
        "id": "VGrsOQcXEFtK",
        "outputId": "6b1d5412-92c8-4b77-bb6c-d0a71c18630d"
      },
      "execution_count": 25,
      "outputs": [
        {
          "output_type": "execute_result",
          "data": {
            "text/plain": [
              "['G', 'G', '-', 'G', 'B', 'B', 'B']"
            ]
          },
          "metadata": {},
          "execution_count": 25
        }
      ]
    },
    {
      "cell_type": "markdown",
      "source": [
        "Check for winning condition by comparing the elements of list. If player has won the game print 'You Win'"
      ],
      "metadata": {
        "id": "4FvusUwtEfaG"
      }
    },
    {
      "cell_type": "code",
      "source": [
        "win = ['B','B','B','-','G','G','G']\n",
        "if positions == win:\n",
        "  print(\"You Win\")"
      ],
      "metadata": {
        "id": "xjHasnK4EJWD"
      },
      "execution_count": 26,
      "outputs": []
    },
    {
      "cell_type": "markdown",
      "source": [
        "Now the game should keep running until the player quits, so place all conditional statements inside an infinite loop.<br>\n",
        "\n",
        "1. We have to `'break'` the loop if the player presses `'q'` and quits.\n",
        "\n",
        "2. If the move made by player is `'Invalid Move'` then we have to `'continue'` without executing remaining part of the selected iteration.\n",
        "\n",
        "3. If player wins the game we have to `break` the loop.\n",
        "\n",
        "\n",
        "```\n",
        "Infinite loop:\n",
        "    (inside loop)\n",
        "    1.Take input\n",
        "    2.Check all valid and invalid conditions of `pos`.\n",
        "    3.Make the appropriate move by calculating `pos2`.\n",
        "    4.Display game\n",
        "    4.Check winning condition\n",
        "```"
      ],
      "metadata": {
        "id": "a2a0HHjiUyQ8"
      }
    },
    {
      "cell_type": "code",
      "source": [
        "while pos != 'q':\n",
        "  print(\"\\n\")\n",
        "  print(positions)\n",
        "  print(\"  0    1    2    3    4    5    6     \")\n",
        "  pos = input(\"Press q to quit else \\nEnter position of piece:\")\n",
        "  if pos == 'q':\n",
        "    print(\"You Lose\")\n",
        "    break\n",
        "  elif pos.isdigit():\n",
        "    pos = int(pos)\n",
        "  pos2 = 0\n",
        "  if positions[pos] == 'G':\n",
        "    if pos +1 <= 6 and positions[pos +1] =='-':\n",
        "      pos2 = pos +1\n",
        "    elif pos +2 <= 6 and positions[pos +2]  == '-' and positions[pos +1] == 'B':\n",
        "      pos2 = pos +2\n",
        "    else:\n",
        "      print(\"Invalid Move\")\n",
        "      continue\n",
        "  if positions[pos] == 'B':\n",
        "    if pos -1 >= 0 and positions[pos - 1] =='-':\n",
        "      pos2 = pos -1\n",
        "    elif pos -2 >= 0 and positions[pos -2]  == '-' and positions[pos -1] == 'G':\n",
        "      pos2 = pos -2\n",
        "    else:\n",
        "      print(\"Invalid Move\")\n",
        "      continue\n",
        "  temp = positions[pos]\n",
        "  positions[pos] = positions[pos2]\n",
        "  positions[pos2] = temp\n",
        "  win = ['B','B','B','-','G','G','G']\n",
        "  print(\"\\n\")\n",
        "  if positions == win:\n",
        "      print(positions)\n",
        "      print(\"You Win\")\n",
        "      break"
      ],
      "metadata": {
        "colab": {
          "base_uri": "https://localhost:8080/"
        },
        "id": "hts6Xm1jEs_P",
        "outputId": "ed2f041c-f6c4-4f73-9ce5-45207db1a3f1"
      },
      "execution_count": 27,
      "outputs": [
        {
          "output_type": "stream",
          "name": "stdout",
          "text": [
            "\n",
            "\n",
            "['G', 'G', '-', 'G', 'B', 'B', 'B']\n",
            "  0    1    2    3    4    5    6     \n",
            "Press q to quit else \n",
            "Enter position of piece:4\n",
            "\n",
            "\n",
            "\n",
            "\n",
            "['G', 'G', 'B', 'G', '-', 'B', 'B']\n",
            "  0    1    2    3    4    5    6     \n",
            "Press q to quit else \n",
            "Enter position of piece:5\n",
            "\n",
            "\n",
            "\n",
            "\n",
            "['G', 'G', 'B', 'G', 'B', '-', 'B']\n",
            "  0    1    2    3    4    5    6     \n",
            "Press q to quit else \n",
            "Enter position of piece:3\n",
            "\n",
            "\n",
            "\n",
            "\n",
            "['G', 'G', 'B', '-', 'B', 'G', 'B']\n",
            "  0    1    2    3    4    5    6     \n",
            "Press q to quit else \n",
            "Enter position of piece:1\n",
            "\n",
            "\n",
            "\n",
            "\n",
            "['G', '-', 'B', 'G', 'B', 'G', 'B']\n",
            "  0    1    2    3    4    5    6     \n",
            "Press q to quit else \n",
            "Enter position of piece:0\n",
            "\n",
            "\n",
            "\n",
            "\n",
            "['-', 'G', 'B', 'G', 'B', 'G', 'B']\n",
            "  0    1    2    3    4    5    6     \n",
            "Press q to quit else \n",
            "Enter position of piece:2\n",
            "\n",
            "\n",
            "\n",
            "\n",
            "['B', 'G', '-', 'G', 'B', 'G', 'B']\n",
            "  0    1    2    3    4    5    6     \n",
            "Press q to quit else \n",
            "Enter position of piece:4\n",
            "\n",
            "\n",
            "\n",
            "\n",
            "['B', 'G', 'B', 'G', '-', 'G', 'B']\n",
            "  0    1    2    3    4    5    6     \n",
            "Press q to quit else \n",
            "Enter position of piece:6\n",
            "\n",
            "\n",
            "\n",
            "\n",
            "['B', 'G', 'B', 'G', 'B', 'G', '-']\n",
            "  0    1    2    3    4    5    6     \n",
            "Press q to quit else \n",
            "Enter position of piece:5\n",
            "\n",
            "\n",
            "\n",
            "\n",
            "['B', 'G', 'B', 'G', 'B', '-', 'G']\n",
            "  0    1    2    3    4    5    6     \n",
            "Press q to quit else \n",
            "Enter position of piece:3\n",
            "\n",
            "\n",
            "\n",
            "\n",
            "['B', 'G', 'B', '-', 'B', 'G', 'G']\n",
            "  0    1    2    3    4    5    6     \n",
            "Press q to quit else \n",
            "Enter position of piece:1\n",
            "\n",
            "\n",
            "\n",
            "\n",
            "['B', '-', 'B', 'G', 'B', 'G', 'G']\n",
            "  0    1    2    3    4    5    6     \n",
            "Press q to quit else \n",
            "Enter position of piece:2\n",
            "\n",
            "\n",
            "\n",
            "\n",
            "['B', 'B', '-', 'G', 'B', 'G', 'G']\n",
            "  0    1    2    3    4    5    6     \n",
            "Press q to quit else \n",
            "Enter position of piece:4\n",
            "\n",
            "\n",
            "\n",
            "\n",
            "['B', 'B', 'B', 'G', '-', 'G', 'G']\n",
            "  0    1    2    3    4    5    6     \n",
            "Press q to quit else \n",
            "Enter position of piece:3\n",
            "\n",
            "\n",
            "['B', 'B', 'B', '-', 'G', 'G', 'G']\n",
            "You Win\n"
          ]
        }
      ]
    },
    {
      "cell_type": "code",
      "source": [],
      "metadata": {
        "id": "6F6t59HjE7q-"
      },
      "execution_count": null,
      "outputs": []
    }
  ]
}